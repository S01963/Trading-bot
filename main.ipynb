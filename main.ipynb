{
 "cells": [
  {
   "cell_type": "code",
   "execution_count": 6,
   "id": "6321bb75-a082-4af8-abd8-1b937b4eb04d",
   "metadata": {},
   "outputs": [
    {
     "name": "stdout",
     "output_type": "stream",
     "text": [
      "[Thread CANDLE] - Asking for previous prices...Thread - CANDLE. LAUNCHED\n",
      "\n",
      "[Thread CANDLE] - Processing ticks...\n",
      "[Thread RSI] - Waiting for candles...\n",
      "Thread - RSI. LAUNCHED\n",
      "Thread - ORDERS. LAUNCHED\n",
      "\n",
      "Press ENTER to stop the bot\n",
      "\n",
      "[Thread RSI] - Sinchronizing...\n"
     ]
    },
    {
     "name": "stdin",
     "output_type": "stream",
     "text": [
      " \n"
     ]
    },
    {
     "name": "stdout",
     "output_type": "stream",
     "text": [
      "Threads - Stopping threads\n",
      "[Thread RSI] - Loading RSI...\n"
     ]
    }
   ],
   "source": [
    "import bot\n",
    "import MetaTrader5 as mt5\n",
    "\n",
    "# Creating a bot\n",
    "b = bot.Bot(0.01, 60*15, \"EURUSD\")\n",
    "\n",
    "# Login into mt5\n",
    "mt5.initialize()\n",
    "\n",
    "b.thread_candle()\n",
    "b.thread_RSI()\n",
    "b.thread_orders()\n",
    "b.wait()"
   ]
  },
  {
   "cell_type": "code",
   "execution_count": null,
   "id": "214ba7d5-0533-419c-b3c7-352902818957",
   "metadata": {},
   "outputs": [],
   "source": []
  }
 ],
 "metadata": {
  "kernelspec": {
   "display_name": "Python 3 (ipykernel)",
   "language": "python",
   "name": "python3"
  },
  "language_info": {
   "codemirror_mode": {
    "name": "ipython",
    "version": 3
   },
   "file_extension": ".py",
   "mimetype": "text/x-python",
   "name": "python",
   "nbconvert_exporter": "python",
   "pygments_lexer": "ipython3",
   "version": "3.9.7"
  }
 },
 "nbformat": 4,
 "nbformat_minor": 5
}
