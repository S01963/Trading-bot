{
 "cells": [
  {
   "cell_type": "code",
   "execution_count": 20,
   "id": "e0bfd25f-98eb-4b33-b619-01ed24397493",
   "metadata": {},
   "outputs": [
    {
     "name": "stdout",
     "output_type": "stream",
     "text": [
      "[Thread - orders] 1. order_send(): by EURUSD 0.01 lots at 1.05546 with deviation=20 points\n",
      "[Thread - orders] Failed operation: retcode=10018\n"
     ]
    },
    {
     "ename": "AttributeError",
     "evalue": "'NoneType' object has no attribute 'ask'",
     "output_type": "error",
     "traceback": [
      "\u001b[1;31m---------------------------------------------------------------------------\u001b[0m",
      "\u001b[1;31mAttributeError\u001b[0m                            Traceback (most recent call last)",
      "\u001b[1;32mC:\\Users\\AHMEDA~1\\AppData\\Local\\Temp/ipykernel_3732/566321662.py\u001b[0m in \u001b[0;36m<module>\u001b[1;34m\u001b[0m\n\u001b[0;32m     10\u001b[0m \u001b[0mtime\u001b[0m\u001b[1;33m.\u001b[0m\u001b[0msleep\u001b[0m\u001b[1;33m(\u001b[0m\u001b[1;36m5\u001b[0m\u001b[1;33m)\u001b[0m\u001b[1;33m\u001b[0m\u001b[1;33m\u001b[0m\u001b[0m\n\u001b[0;32m     11\u001b[0m \u001b[1;33m\u001b[0m\u001b[0m\n\u001b[1;32m---> 12\u001b[1;33m \u001b[0morders\u001b[0m\u001b[1;33m.\u001b[0m\u001b[0mopen_position\u001b[0m\u001b[1;33m(\u001b[0m\u001b[1;34m\"EURGBP\"\u001b[0m\u001b[1;33m,\u001b[0m \u001b[1;36m0.01\u001b[0m\u001b[1;33m,\u001b[0m \u001b[1;34m\"sell\"\u001b[0m\u001b[1;33m)\u001b[0m\u001b[1;33m\u001b[0m\u001b[1;33m\u001b[0m\u001b[0m\n\u001b[0m",
      "\u001b[1;32m~\\Desktop\\New folder (7)\\orders.py\u001b[0m in \u001b[0;36mopen_position\u001b[1;34m(market, lotage, type_op)\u001b[0m\n\u001b[0;32m     17\u001b[0m     \"\"\"\n\u001b[0;32m     18\u001b[0m     \u001b[0mmt5\u001b[0m\u001b[1;33m.\u001b[0m\u001b[0minitialize\u001b[0m\u001b[1;33m(\u001b[0m\u001b[1;33m)\u001b[0m\u001b[1;33m\u001b[0m\u001b[1;33m\u001b[0m\u001b[0m\n\u001b[1;32m---> 19\u001b[1;33m     \u001b[0mpoint\u001b[0m \u001b[1;33m=\u001b[0m \u001b[0mmt5\u001b[0m\u001b[1;33m.\u001b[0m\u001b[0msymbol_info\u001b[0m\u001b[1;33m(\u001b[0m\u001b[0mmarket\u001b[0m\u001b[1;33m)\u001b[0m\u001b[1;33m.\u001b[0m\u001b[0mpoint\u001b[0m\u001b[1;33m\u001b[0m\u001b[1;33m\u001b[0m\u001b[0m\n\u001b[0m\u001b[0;32m     20\u001b[0m     \u001b[0mprice\u001b[0m \u001b[1;33m=\u001b[0m \u001b[0mmt5\u001b[0m\u001b[1;33m.\u001b[0m\u001b[0msymbol_info_tick\u001b[0m\u001b[1;33m(\u001b[0m\u001b[0mmarket\u001b[0m\u001b[1;33m)\u001b[0m\u001b[1;33m.\u001b[0m\u001b[0mask\u001b[0m\u001b[1;33m\u001b[0m\u001b[1;33m\u001b[0m\u001b[0m\n\u001b[0;32m     21\u001b[0m \u001b[1;33m\u001b[0m\u001b[0m\n",
      "\u001b[1;31mAttributeError\u001b[0m: 'NoneType' object has no attribute 'ask'"
     ]
    }
   ],
   "source": [
    "import orders\n",
    "import time\n",
    "import MetaTrader5 as mt5\n",
    "\n",
    "mt5.initialize()\n",
    "\n",
    "orders.STOPLOSS = 100\n",
    "orders.TAKEPROFIT = 500\n",
    "orders.open_position(\"EURUSD\", 0.01, \"buy\")\n",
    "time.sleep(5)\n",
    "\n",
    "orders.open_position(\"EURGBP\", 0.01, \"sell\")"
   ]
  },
  {
   "cell_type": "code",
   "execution_count": 24,
   "id": "9d4a9d6f-59ba-4308-8426-7c4e1d10cf21",
   "metadata": {},
   "outputs": [
    {
     "name": "stdout",
     "output_type": "stream",
     "text": [
      "None\n"
     ]
    }
   ],
   "source": [
    "mt5.initialize()\n",
    "print(mt5.symbol_info_tick(\"AAPL\"))#.ask"
   ]
  },
  {
   "cell_type": "code",
   "execution_count": null,
   "id": "e8e4367e-6200-463f-8b20-c9eb8de2ad42",
   "metadata": {},
   "outputs": [],
   "source": []
  },
  {
   "cell_type": "code",
   "execution_count": null,
   "id": "d88bc451-459b-4b5f-a423-f618aa0101a0",
   "metadata": {},
   "outputs": [],
   "source": []
  }
 ],
 "metadata": {
  "kernelspec": {
   "display_name": "Python 3 (ipykernel)",
   "language": "python",
   "name": "python3"
  },
  "language_info": {
   "codemirror_mode": {
    "name": "ipython",
    "version": 3
   },
   "file_extension": ".py",
   "mimetype": "text/x-python",
   "name": "python",
   "nbconvert_exporter": "python",
   "pygments_lexer": "ipython3",
   "version": "3.9.7"
  }
 },
 "nbformat": 4,
 "nbformat_minor": 5
}
